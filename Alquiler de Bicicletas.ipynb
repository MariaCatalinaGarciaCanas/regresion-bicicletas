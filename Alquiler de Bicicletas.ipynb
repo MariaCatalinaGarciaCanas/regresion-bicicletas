{
 "cells": [
  {
   "cell_type": "markdown",
   "id": "392183a4",
   "metadata": {},
   "source": [
    "# 🚲 ¿Qué hace que alquilemos una bicicleta?  \n",
    "### Un análisis y modelo predictivo de alquiler de bicicletas\n",
    "\n",
    "Este proyecto analiza los factores que influyen en el número de bicicletas alquiladas en una ciudad a lo largo del día.  \n",
    "Exploraremos el comportamiento de los usuarios, realizaremos limpieza y visualizaciones de los datos, y construiremos un modelo predictivo usando regresión lineal.\n",
    "\n",
    "\n",
    "\n",
    "1. Introducción\n",
    "2. Objetivo del proyecto\n",
    "2. Exploración del Dataset\n",
    "3. Limpieza de datos\n",
    "4. Análisis Exploratorio de Datos (EDA)\n",
    "5. Correlaciones \n",
    "7. Modelo\n",
    "6. Conclusiones"
   ]
  },
  {
   "cell_type": "markdown",
   "id": "03bcb8f5",
   "metadata": {},
   "source": [
    "## 1. Introducción\n",
    "\n",
    "\n",
    "![Predicción de Alquiler de bicicletas](Etbycle.JPG)\n",
    "\n",
    "En una de mis visitas a Bogotá noté que cada vez más personas usan la bicicleta como medio de transporte. Me pareció una alternativa amigable con el medio ambiente, pero también me surgieron varias preguntas: ¿Las bicicletas son propias o alquiladas? ¿Qué factores influyen en la decisión de salir en bicicleta al trabajo u otros lugares?\n",
    "\n",
    "Para responder estas preguntas, trabajé con un dataset de Kaggle sobre alquiler de bicicletas. Aunque los datos corresponden a una ciudad específica, permiten analizar patrones que pueden extrapolarse a otras ciudades donde el uso de la bicicleta está en crecimiento.\n",
    "\n",
    "Este análisis incluye:\n",
    "- Un análisis exploratorio de los datos\n",
    "- Visualización de relaciones clave\n",
    "- Modelado de regresión lineal simple y múltiple para predecir la demanda\n"
   ]
  },
  {
   "cell_type": "markdown",
   "id": "71d2eb0c",
   "metadata": {},
   "source": [
    "## 2. Objetivo del Proyecto\n",
    "\n",
    "El objetivo principal de este proyecto es construir modelos de regresión lineal simple y múltiple que permitan **predecir la cantidad de bicicletas alquiladas**, teniendo en cuenta variables como la hora del día, el clima, la temperatura y otros factores contextuales.\n",
    "\n",
    "Este tipo de análisis permite entender mejor los patrones de comportamiento de los usuarios y puede ayudar a optimizar la planificación y distribución de recursos en los servicios de alquiler de bicicletas.\n",
    "\n",
    "\n",
    "El dataset utilizado es Bike Sharing Demand, extraído de Kaggle.\n",
    "\n",
    "Período: 2 años\n",
    "Observaciones: 17.379 registros\n",
    "Variables: 16 columnas\n",
    "\n",
    "Las filas representan un dato horario del número de bicletas alquiladas, con otras variables temporales y metorológicas.\n",
    "\n",
    "Respecto a las variables que se encuentran en el archivo les muestro lo que significa cada columna de estos datos:\n",
    "\n",
    "* **datetime:** La fecha y hora del registro, que permite analizar patrones por día, semana o estación.\n",
    "\n",
    "* **season:** Estación del año (primavera, verano, etc.)\n",
    "\n",
    "* **holiday:** Día festivo.\n",
    "\n",
    "* **workingday:** Si fue un día laboral o no.\n",
    "\n",
    "* **weather:** Un índice de la condición climática, desde claro hasta lluvia intensa.\n",
    "\n",
    "* **temp / atemp:** Temperatura real y sensación térmica.\n",
    "\n",
    "* **humidity:** Humedad relativa.\n",
    "\n",
    "* **windspeed:** Velocidad del viento.\n",
    "\n",
    "* **casual / registered:** Alquileres por usuarios casuales (espontáneos) y registrados (frecuentes).\n",
    "\n",
    "* **count:** El total de bicicletas alquiladas en ese momento (Variable objtivo).\n",
    "\n",
    "Este proyecto toma como base un ejercicio del Bootcamp de Data Science de Digital House,a partir de ese punto de partida, desarrollé un análisis exploratorio, visualizaciones personalizadas y un modelo de regresión para predecir la demanda de bicicletas según las condiciones climáticas y temporales.\n"
   ]
  },
  {
   "cell_type": "markdown",
   "id": "2a8ae1d9",
   "metadata": {},
   "source": [
    "### 3. Exploración del Dataset"
   ]
  },
  {
   "cell_type": "code",
   "execution_count": null,
   "id": "41f86543",
   "metadata": {
    "scrolled": true
   },
   "outputs": [],
   "source": [
    "# Importamos la librería pandas para visualizar en modo de tabla en este notebook nuestros datos\n",
    "\n",
    "import pandas as pd\n",
    "\n",
    "# ruta: Creamos una variable para almacenar la ubicación del archivo CSV, que nos ayuda acortar el codigo.\n",
    "\n",
    "data_bikes = r\"D:\\Git Hub\\Regresión simple y múltiple\\Alquiler de Bicicletas\\bikes.csv\"\n",
    "\n",
    "# Leemos el archivo CSV utilizando la función read_csv de pandas y lo cargamos en un DataFrame llamado: data.\n",
    "data = pd.read_csv(data_bikes, index_col='datetime', parse_dates=True)\n",
    "\n",
    "#Se convirtió la columna datetime al formato de fecha y hora\n",
    "\n",
    "# Utilizamos el método head(5) para mostrar las primeras 5 filas del DataFrame 'data', lo que nos da\n",
    "# una vista rápida del contenido del dataset.\n",
    "data.head(5)\n",
    "\n"
   ]
  },
  {
   "cell_type": "code",
   "execution_count": null,
   "id": "63001129",
   "metadata": {},
   "outputs": [],
   "source": [
    "#Se revisaron los valores nulos y se confirmó que no había datos faltantes\n",
    "data.info()"
   ]
  },
  {
   "cell_type": "code",
   "execution_count": null,
   "id": "80353e58",
   "metadata": {},
   "outputs": [],
   "source": [
    "# Estadísticas descriptivas\n",
    "\n",
    "#count (número de datos)\n",
    "\n",
    "#mean (media)\n",
    "\n",
    "#std (desviación estándar)\n",
    "\n",
    "#min, 25%, 50%, 75%, max\n",
    "\n",
    "\n",
    "data.describe()\n"
   ]
  },
  {
   "cell_type": "code",
   "execution_count": null,
   "id": "789cf931",
   "metadata": {},
   "outputs": [],
   "source": [
    "#Número de filas y columnas del dataset\n",
    "data.shape"
   ]
  },
  {
   "cell_type": "code",
   "execution_count": null,
   "id": "1f1fa34f",
   "metadata": {},
   "outputs": [],
   "source": [
    "data.sample(10)"
   ]
  },
  {
   "cell_type": "markdown",
   "id": "96896418",
   "metadata": {},
   "source": [
    "### 4. Limpieza de Datos"
   ]
  },
  {
   "cell_type": "code",
   "execution_count": null,
   "id": "933766ee",
   "metadata": {
    "scrolled": true
   },
   "outputs": [],
   "source": [
    "#Count en pandas es un método por lo que por buenas prácticas es recomendable cambiar el nombre de la columna\n",
    "data.rename(columns={'count':'totally'}, inplace=True)\n",
    "data.sample(10)"
   ]
  },
  {
   "cell_type": "code",
   "execution_count": null,
   "id": "2b461eb4",
   "metadata": {},
   "outputs": [],
   "source": [
    "#Validación de nulls\n",
    "\n",
    "data.info()\n",
    "data.isnull().sum()\n"
   ]
  },
  {
   "cell_type": "code",
   "execution_count": null,
   "id": "c86ed814",
   "metadata": {},
   "outputs": [],
   "source": [
    "#Revisión de duplicados\n",
    "\n",
    "print(f\"Duplicados: {data.duplicated().sum()}\")\n"
   ]
  },
  {
   "cell_type": "markdown",
   "id": "47340977",
   "metadata": {},
   "source": [
    "### 5. Análisis Exploratorio de Datos (EDA)"
   ]
  },
  {
   "cell_type": "code",
   "execution_count": null,
   "id": "1641aacc",
   "metadata": {},
   "outputs": [],
   "source": [
    "# Visaulización de la variable objetivo\n",
    "\n",
    "# Importamos las librerías\n",
    "import seaborn as sns\n",
    "import matplotlib.pyplot as plt\n",
    "%matplotlib inline\n",
    "\n",
    "# Visualización de la variable objetivo (total de bicicletas alquiladas)\n",
    "sns.histplot(data['totally'], kde=True, color='orchid')\n",
    "plt.title('Distribución de alquileres totales')\n",
    "plt.xlabel('Bicicletas alquiladas')\n",
    "plt.ylabel('Frecuencia')\n",
    "plt.show()\n"
   ]
  },
  {
   "cell_type": "markdown",
   "id": "6a776786",
   "metadata": {},
   "source": [
    "La distribución de los alquileres de las bicicletas presenta una ligera asimetría a la derecha, por lo que deducimos la mayoría de veces el número de bicicletas alquiladas es bajo a medio, pero hay días con alta demanda."
   ]
  },
  {
   "cell_type": "code",
   "execution_count": null,
   "id": "59b0f316",
   "metadata": {
    "scrolled": true
   },
   "outputs": [],
   "source": [
    "# Alquiler estación\n",
    "\n",
    "sns.boxplot(x='season', y='totally', data=data)\n",
    "plt.title('Alquiler de bicicletas por estación')\n",
    "plt.xlabel('Estación')\n",
    "plt.ylabel('Total de alquileres')\n",
    "plt.show()\n"
   ]
  },
  {
   "cell_type": "markdown",
   "id": "5e02e28e",
   "metadata": {},
   "source": [
    "Las estaciones con mayor alquiler son la 2 y 3 que concuerda con primavera y verano lo que asu vez se asume favorable por las condiciones del clima y el uso de bicicletas. "
   ]
  },
  {
   "cell_type": "code",
   "execution_count": null,
   "id": "d0c7cf9d",
   "metadata": {
    "scrolled": true
   },
   "outputs": [],
   "source": [
    "#Extraemos la hora\n",
    "\n",
    "data['hour'] = data.index.hour\n",
    "\n",
    "# Promedio de alquileres por hora del día\n",
    "sns.lineplot(x='hour', y='totally', data=data.groupby('hour')['totally'].mean().reset_index())\n",
    "plt.title('Promedio de alquileres por hora del día')\n",
    "plt.xlabel('Hora')\n",
    "plt.ylabel('Alquiler promedio')\n",
    "plt.show()\n"
   ]
  },
  {
   "cell_type": "markdown",
   "id": "ae789530",
   "metadata": {},
   "source": [
    "Observamos 2 picos que indican mayor demanda de bicicletas aproximadamente a las 8 am y otro a las 5:30 pm que pod´ria alinearse con horarios laborales o escolares. "
   ]
  },
  {
   "cell_type": "code",
   "execution_count": null,
   "id": "b8c1cd96",
   "metadata": {
    "scrolled": true
   },
   "outputs": [],
   "source": [
    "#Variables cagóricas\n",
    "#  Comparación de alquileres en días festivos vs normales\n",
    "sns.boxplot(x='holiday', y='totally', data=data)\n",
    "plt.title('Alquileres en días festivos vs normales')\n"
   ]
  },
  {
   "cell_type": "markdown",
   "id": "8743c163",
   "metadata": {},
   "source": [
    "Los días festivos están un poco por debajo de los días normales, puede deberse a que menos personas deben ir a trabajar estos días."
   ]
  },
  {
   "cell_type": "code",
   "execution_count": null,
   "id": "530da88d",
   "metadata": {},
   "outputs": [],
   "source": [
    "# Identificación de Outliers en humedad\n",
    "sns.boxplot(x=data['humidity'])\n",
    "plt.title('Outliers en Humedad')\n"
   ]
  },
  {
   "cell_type": "markdown",
   "id": "9ccb6834",
   "metadata": {},
   "source": [
    "Algunos valores extremos de humedad pueden afectar el alquiler de bicicletas\n",
    "\n"
   ]
  },
  {
   "cell_type": "code",
   "execution_count": null,
   "id": "366ce4e5",
   "metadata": {
    "scrolled": true
   },
   "outputs": [],
   "source": [
    "###Vamos a visualizar las variables clave de nuestro Datset\n",
    "\n",
    "\n",
    "# Parámetros visuales globales\n",
    "plt.rcParams['figure.figsize'] = (8, 6) #tamaño e los gráficos\n",
    "plt.rcParams['font.size'] = 14 #tamaño de la fuente\n",
    "plt.rcParams['font.family'] = 'sans-serif'\n",
    "plt.rcParams['font.sans-serif'] = ['Verdana'] #tipo de letra\n",
    "\n",
    "# Estilo de seaborn\n",
    "sns.set_style(\"whitegrid\") #fondo blanco\n",
    "sns.set_palette(\"pastel\") #colores\n",
    "\n",
    "# 1. Temperatura vs Alquiler (Gráfica de dispersión simple)\n",
    "data.plot(kind='scatter', #gráfico de dispersión\n",
    "    x='temp', #eje x\n",
    "    y='totally', #eje y el total de bicletas alquilas\n",
    "    alpha=0.2, #transparencia de puntos\n",
    "    color='mediumslateblue' # color de los puntos\n",
    ")\n",
    "plt.title('Relación de temperatura y alquiler de Bicicletas', fontsize=16)\n",
    "plt.xlabel('Temperatura (°C)', fontsize=12)\n",
    "plt.ylabel('Total de bicicletas alquiladas', fontsize=12)\n",
    "plt.show()\n",
    "\n",
    "\n",
    "#Gráfica con línea de tendecia \n",
    "\n",
    "sns.lmplot( #Modelo de regresión\n",
    "    x='temp', \n",
    "    y='totally', \n",
    "    data=data, \n",
    "    aspect=1.45, #ancho y alto\n",
    "    scatter_kws={'alpha': 0.3, 'color': 'orchid'}, #visualización de los puntos\n",
    "    line_kws={'color': 'darkviolet', 'linewidth': 2}\n",
    ")\n",
    "plt.title('Regresión de Temperatura vs Alquiler de bicicletas', fontsize=16)\n",
    "plt.xlabel('Temperatura (°C)', fontsize=12)\n",
    "plt.ylabel('Alquiler de Bicicletas', fontsize=12)\n",
    "plt.show()\n"
   ]
  },
  {
   "cell_type": "markdown",
   "id": "3f465334",
   "metadata": {},
   "source": [
    "A mayor temperatura, mayor número de alquileres, aunque no completamente lineal."
   ]
  },
  {
   "cell_type": "code",
   "execution_count": null,
   "id": "ee1a43a9",
   "metadata": {
    "scrolled": true
   },
   "outputs": [],
   "source": [
    "# 2. Humedad vs Alquiler\n",
    "sns.lmplot(\n",
    "    x='humidity', \n",
    "    y='totally', \n",
    "    data=data, \n",
    "    aspect=1.45,\n",
    "    scatter_kws={'alpha': 0.3, 'color': 'skyblue'},\n",
    "    line_kws={'color': 'deepskyblue', 'linewidth': 2}\n",
    ")\n",
    "plt.title('Humedad en el aire, ¿menos bicis en la calle?', fontsize=16)\n",
    "plt.xlabel('Humedad (%)', fontsize=12)\n",
    "plt.ylabel('Total de bicicletas alquiladas', fontsize=12)\n",
    "plt.show()\n"
   ]
  },
  {
   "cell_type": "markdown",
   "id": "14557482",
   "metadata": {},
   "source": [
    "Podemos observar una relación inversamente proporcional, a mayor humedad menor uso de bicicletas y tiene sentido ya que éste estado del clima hace que sea incomodo usar bicileta."
   ]
  },
  {
   "cell_type": "code",
   "execution_count": null,
   "id": "b6563f69",
   "metadata": {
    "scrolled": true
   },
   "outputs": [],
   "source": [
    "# 3. Velocidad del viento vs Alquiler\n",
    "sns.lmplot(\n",
    "    x='windspeed', \n",
    "    y='totally', \n",
    "    data=data, \n",
    "    aspect=1.45,\n",
    "    scatter_kws={'alpha': 0.3, 'color': 'lightcoral'},\n",
    "    line_kws={'color': 'firebrick', 'linewidth': 2}\n",
    ")\n",
    "plt.title('Relación entre el viento y el alquiler', fontsize=16)\n",
    "plt.xlabel('Velocidad del viento (km/h)', fontsize=12)\n",
    "plt.ylabel('Total de bicicletas alquiladas', fontsize=12)\n",
    "plt.show()"
   ]
  },
  {
   "cell_type": "markdown",
   "id": "19feca98",
   "metadata": {},
   "source": [
    "Se puede observar que a mayor velocidad del viento se empieza a reducir el uso de bicicletas"
   ]
  },
  {
   "cell_type": "markdown",
   "id": "38d1af9f",
   "metadata": {},
   "source": [
    "### 6. Correlaciones"
   ]
  },
  {
   "cell_type": "code",
   "execution_count": null,
   "id": "ff59fe4e",
   "metadata": {
    "scrolled": true
   },
   "outputs": [],
   "source": [
    "# Correlaciones entre variables\n",
    "\n",
    "plt.figure(figsize=(10, 8))\n",
    "sns.heatmap(data.corr(), annot=True, cmap='coolwarm')\n",
    "plt.title('Matriz de Correlación')\n",
    "plt.show()"
   ]
  },
  {
   "cell_type": "markdown",
   "id": "c74ab207",
   "metadata": {},
   "source": [
    "Se observan correlaciones positivas con la temperatura (temp) y negativas con la humedad (humidity), de lo que se deduce que el buen clima hace que la gente rente mas bicicletas y la humedad que se disminuya. \n",
    "También es posible observa la multicolinealidad de temp y atemp por que en este modelo líneal podemos quedarnos con sólo una.\n"
   ]
  },
  {
   "cell_type": "markdown",
   "id": "cbdb25fd",
   "metadata": {},
   "source": [
    "### 7.Evaluación del modelo"
   ]
  },
  {
   "cell_type": "markdown",
   "id": "55606516",
   "metadata": {},
   "source": [
    "El objetivo de éste notebook es analizar la relación entre la temperatura y el número total de bicicletas alquiladas (totally) usando un modelo de regresión en este caso el **Modelo de regresión lineal simple**\n",
    "\n",
    "El modelo está dado por: \n",
    "\n",
    "Y = B0 + B1x1 + B2x2 + B3x3 + ... + Bnxn \n",
    "\n",
    "Donde Y = Variable dependiente en este caso totally (lo que queremos hallar)\n",
    "xn = Variables independiente o features, en este caso temperaturas\n",
    "B0 = Intercepto, valor de y cuando todos los xi=0\n",
    "Bn = coeficientes que el modelo va aprender (Aprenden usando el criterio de mínimos cuadrados), indica cuánto cambia Y por un cambuo en xi\n",
    "\n",
    "Este modelo busca la línea mas óptima, osea la que minimiza el error cuadrático.\n",
    "\n",
    "Usaremos Scikit-Learn para construir el modelo de regresión lineal, es importante conocer un paso a paso:\n",
    "\n",
    "    1. Seleccionar la variable objetivo (y-totally) y la feature o varibales predictoras (x-temperatura)\n",
    "    2. Importar el modelo a usar o sea el de regresión lineal\n",
    "    3. Instanciar el modelo y seleccionar los hiperparámetros\n",
    "    4. Ajustar nuestro modelo a los datos con el método **fit()**\n",
    "    5. Obtener los coeficientes para interpretar la relación"
   ]
  },
  {
   "cell_type": "code",
   "execution_count": null,
   "id": "489e9bb0",
   "metadata": {},
   "outputs": [],
   "source": [
    "# 1.Seleccionar Features y target\n",
    "\n",
    "feature_cols = ['temp']  # Feature independiente\n",
    "X = data[feature_cols]\n",
    "y = data['totally']  # Variable dependiente\n",
    "\n",
    "\n",
    "X.shape"
   ]
  },
  {
   "cell_type": "code",
   "execution_count": null,
   "id": "cd29ec71",
   "metadata": {},
   "outputs": [],
   "source": [
    "from sklearn.linear_model import LinearRegression\n",
    "\n",
    "# 2. Importamos el paquete e instanciamos el modelo\n",
    "linreg = LinearRegression()\n",
    "\n",
    "# 3. Ajustamos del modelo\n",
    "linreg.fit(X, y)\n",
    "\n",
    "# 4. Vista de los coeficientes\n",
    "print(\"Intercepto (β0):\", linreg.intercept_)\n",
    "print(\"Coeficiente (β1) para temp:\", linreg.coef_)\n"
   ]
  },
  {
   "cell_type": "markdown",
   "id": "40cd7b01",
   "metadata": {},
   "source": [
    "Intercepto (β0): Es el valor esperado de alquileres de bicicletas cuando la temperatura es 0 °C, en donde la recta de la regresión corta el eje y\n",
    "\n",
    "Coeficiente para temp (β1): Nos dice cuánto cambia la cantidad de  bicicletas alquiladas por cada grado adicional de temperatura.\n",
    "Ejemplo: si β1 = 9.17, entonces subir 1 °C se asocia con +9.17 bicicletas alquiladas.\n",
    "Si este coeficiente fuera negativo nos indicaría que a mayor temperatura menor alquileres."
   ]
  },
  {
   "cell_type": "code",
   "execution_count": null,
   "id": "8fd96b75",
   "metadata": {},
   "outputs": [],
   "source": [
    "#Ahora, queremos saber cuántas bicicletas se pueden alquilar a una temperatura específica\n",
    "\n",
    "# Supongamos una temperatura de 23 grados\n",
    "test = 23\n",
    "\n",
    "# Usamos la fórmula del modelo: y = β₀ + β₁ * x\n",
    "linreg.intercept_ + linreg.coef_ * test\n"
   ]
  },
  {
   "cell_type": "code",
   "execution_count": null,
   "id": "93dad43a",
   "metadata": {},
   "outputs": [],
   "source": [
    "# Predicción manual\n",
    "pred_manual = linreg.intercept_ + linreg.coef_[0] * temp_test\n",
    "print(f\"Predicción manual para 23°C: {pred_manual:.0f}\")"
   ]
  },
  {
   "cell_type": "code",
   "execution_count": null,
   "id": "1d78feb3",
   "metadata": {},
   "outputs": [],
   "source": [
    "# Predicción usando sklearn\n",
    "\n",
    "import numpy as np\n",
    "\n",
    "# Creamos un array con la temperatura\n",
    "test_sklearn = np.array(test).reshape(-1, 1)\n",
    "\n",
    "# Hacemos la predicción con el modelo\n",
    "linreg.predict(test_sklearn)\n"
   ]
  },
  {
   "cell_type": "code",
   "execution_count": null,
   "id": "9d5beef7",
   "metadata": {},
   "outputs": [],
   "source": [
    "temp_array = np.array([[temp_test]])\n",
    "pred_sklearn = linreg.predict(temp_array)[0]\n",
    "print(f\"Predicción sklearn para 23°C: {pred_sklearn:.0f}\")"
   ]
  },
  {
   "cell_type": "code",
   "execution_count": null,
   "id": "ad668043",
   "metadata": {},
   "outputs": [],
   "source": [
    "pred = linreg.predict(test_sklearn)[0]\n",
    "print(f\"A 23°C se espera que se alquilen aproximadamente {pred:.0f} bicicletas.\")\n"
   ]
  },
  {
   "cell_type": "code",
   "execution_count": null,
   "id": "37b9ce35",
   "metadata": {},
   "outputs": [],
   "source": [
    "# Si la temperatura es en otras unidades...\n",
    "# Creamos una nueva columna para la temperatura en Fahrenheit\n",
    "data['temp_F'] = data.temp * 1.8 + 32\n",
    "data.head()\n"
   ]
  },
  {
   "cell_type": "code",
   "execution_count": null,
   "id": "5f13d76c",
   "metadata": {},
   "outputs": [],
   "source": [
    "sns.lmplot(x='temp_F', y='totally', data=data, aspect=1.45, scatter_kws={'alpha':0.2});\n"
   ]
  },
  {
   "cell_type": "code",
   "execution_count": null,
   "id": "4c771b7a",
   "metadata": {
    "scrolled": true
   },
   "outputs": [],
   "source": [
    "from sklearn.linear_model import LinearRegression\n",
    "\n",
    "feature_cols = ['temp_F']\n",
    "X = data[feature_cols]\n",
    "y = data.totally\n",
    "\n",
    "# Instanciamos el modelo y lo entrenamos\n",
    "linreg = LinearRegression()\n",
    "linreg.fit(X, y)\n",
    "\n",
    "# Mostramos el intercepto y el coeficiente\n",
    "print(\"Intercepto:\", linreg.intercept_)\n",
    "print(\"Coeficiente para temp_F:\", linreg.coef_[0])\n"
   ]
  },
  {
   "cell_type": "code",
   "execution_count": null,
   "id": "5836a702",
   "metadata": {},
   "outputs": [],
   "source": [
    "test_en_f = 25 * 1.8 + 32\n",
    "test_sklearn_en_f = np.array(test_en_f).reshape(-1, 1)\n",
    "pred = linreg.predict(test_sklearn_en_f)[0]\n",
    "\n",
    "print(f\"A 77°F (25°C) se predicen aproximadamente {pred:.0f} alquileres.\")\n"
   ]
  },
  {
   "cell_type": "code",
   "execution_count": null,
   "id": "1567cc4f",
   "metadata": {},
   "outputs": [],
   "source": [
    "#Limpiamos la columna \n",
    "data.drop('temp_F', axis=1, inplace=True)\n"
   ]
  },
  {
   "cell_type": "code",
   "execution_count": null,
   "id": "16b30ba8",
   "metadata": {},
   "outputs": [],
   "source": [
    "#Que otras variables podemos observar \n",
    "# Elegimos nuevas variables para explorar su relación con 'totally'\n",
    "feature_cols = ['temp', 'season', 'weather', 'humidity']\n",
    "\n",
    "# Visualizamos regresiones simples entre cada feature y el target\n",
    "sns.pairplot(data, x_vars=feature_cols, y_vars='totally', kind='reg', height=5, aspect=1);\n"
   ]
  },
  {
   "cell_type": "code",
   "execution_count": null,
   "id": "e1a82dca",
   "metadata": {},
   "outputs": [],
   "source": [
    "# Matriz de correlación\n",
    "data.corr()\n"
   ]
  },
  {
   "cell_type": "code",
   "execution_count": null,
   "id": "eeed0639",
   "metadata": {},
   "outputs": [],
   "source": [
    "#Mapa de calor\n",
    "sns.heatmap(data.corr(), vmin=-1, vmax=1, center=0, cmap=\"YlGnBu\", annot=True);\n"
   ]
  },
  {
   "cell_type": "markdown",
   "id": "86089d00",
   "metadata": {},
   "source": [
    "Observamos la relación de otras varibales como temperatura, humedad, estación y clima con la cantidad total de alquileres.\n",
    "\n",
    "Utilicé pairplot para ver regresiones simples y tendencias en los datos y una matriz de correlación para medir la fuerza de esas relaciones.\n",
    "\n",
    "Concluimos que la temperatura tiene una correlación positiva lo cuál es lógico, a mayor temperatura mayor uso de bicicletas.\n",
    "\n",
    "A mayor humedad menor alquiler de bicicletas (correlación negativa).\n",
    "\n",
    "El clima y la estación también muestran una relación pero menos fuerte que la temperatura.\n"
   ]
  },
  {
   "cell_type": "code",
   "execution_count": null,
   "id": "1c1cf0dc",
   "metadata": {},
   "outputs": [],
   "source": [
    "# Regresión lineal múltiple\n",
    "\n",
    "#Usar multiples features\n",
    "#Analizamos como influyen otras variables no sólo la temperatura\n",
    "# Seleccionamos varias features para el modelo\n",
    "feature_cols = ['temp', 'humidity']\n",
    "\n",
    "# Creamos X e y\n",
    "X = data[feature_cols]\n",
    "y = data.totally\n",
    "\n",
    "# Instanciamos y ajustamos el modelo\n",
    "linreg = LinearRegression()\n",
    "linreg.fit(X, y)\n",
    "\n",
    "# Imprimimos el intercepto y los coeficientes\n",
    "print(\"Intercepto (β₀):\", linreg.intercept_)\n",
    "print(\"Coeficientes (β):\", linreg.coef_)\n",
    "\n",
    "# Asociamos cada feature con su coeficiente\n",
    "list(zip(feature_cols, linreg.coef_))\n"
   ]
  },
  {
   "cell_type": "markdown",
   "id": "cd95751d",
   "metadata": {},
   "source": [
    "Se agregaron múltiples variables, en este caso humedad y temperatura para construir una **Regresión lineal múltiple** para ver cómo cada una de estas variables influye individualmente el el número total de alquileres de bicicletas controlando el efecto de la otra.\n",
    "\n",
    "El signo del coeficiente es directamente proporcional a la variable objetivo, a mayor coeficience mayor alquiler, si es negativo, disminución de alquileres.\n"
   ]
  },
  {
   "cell_type": "markdown",
   "id": "3747eadc",
   "metadata": {},
   "source": [
    "Como saber cual modelo funciona mejor?\n",
    "Para saber cual variable o cuales son las mas utiles y aportan utilidad es necesario usar métricas de evaluación sobre los datos de entrenamiento y prueba.\n",
    "\n",
    "Estas son:\n",
    "\n",
    "MAE (Mean absolute error) Es el promedio del error absoluto.\n",
    "MSE (Mean Squared Error) Es el promedio del error al cuadrado.\n",
    "RMSE (Root mean squared Error) Raiz cuadrada del MSE\n",
    "R² Es la varianza del modelo, si es cercana a 1 es mejor el valor\n"
   ]
  },
  {
   "cell_type": "code",
   "execution_count": null,
   "id": "69a0fbb6",
   "metadata": {},
   "outputs": [],
   "source": [
    "#Respecto a mi modelo de alquiler de bicicletas\n",
    "#Importamos librerias necesarias\n",
    "\n",
    "from sklearn.model_selection import train_test_split\n",
    "from sklearn.linear_model import LinearRegression\n",
    "from sklearn import metrics\n",
    "import numpy as np\n",
    "\n",
    "# Definimos las features y la variable objetivo\n",
    "feature_cols = ['temp', 'humidity']\n",
    "X = data[feature_cols]\n",
    "y = data.totally\n",
    "\n",
    "# Split: 80% entrenamiento, 20% prueba\n",
    "X_train, X_test, y_train, y_test = train_test_split(X, y, random_state=42)\n",
    "\n",
    "# Entrenamos el modelo\n",
    "linreg = LinearRegression()\n",
    "linreg.fit(X_train, y_train)\n",
    "\n",
    "# Predecimos sobre el test set\n",
    "y_pred = linreg.predict(X_test)\n",
    "\n",
    "# Evaluamos el rendimiento\n",
    "print(\"MAE:\", metrics.mean_absolute_error(y_test, y_pred))\n",
    "print(\"MSE:\", metrics.mean_squared_error(y_test, y_pred))\n",
    "print(\"RMSE:\", np.sqrt(metrics.mean_squared_error(y_test, y_pred)))\n",
    "print(\"R²:\", metrics.r2_score(y_test, y_pred))\n"
   ]
  },
  {
   "cell_type": "markdown",
   "id": "84a1a2bf",
   "metadata": {},
   "source": [
    "MAE = 116.5 En promedio el modelo se equivoca en unos 116 alquileres, sin importar si predijo más o de menos.\n",
    "\n",
    "MSE = 24,501.51 Al elevar los errores al cuadrado,se penalizan más los errores grandes. Sirve para comparar modelos.\n",
    "\n",
    "RMSE = 156.53 Error típico del modelo de 157 bicicletas.\n",
    "\n",
    "R² = 0.25 El modelo sustenta que solo hay un 25% de la variabilidad en el npumero total de los alquileres explicado por las variables que elegimos. \n",
    "O sea podemos mejorar el modelo incluyendo mas variables o probando mas algoritmos."
   ]
  },
  {
   "cell_type": "markdown",
   "id": "82959d72",
   "metadata": {},
   "source": [
    "#Comparación de modelos con Train/Test Split y RMSE\n",
    "\n",
    "Para comparar diferentes modelos de regresión líneal se usa la métrica RMSE en conjunto de entrenamiento y prueba, lo que nos indica que tan bien predice un modelo con datos nuevos, para ver si generaliza bien o solo memoriza datos de entrenamiento\n"
   ]
  },
  {
   "cell_type": "code",
   "execution_count": null,
   "id": "d0da8b0d",
   "metadata": {},
   "outputs": [],
   "source": [
    "from sklearn.model_selection import train_test_split\n",
    "from sklearn.linear_model import LinearRegression\n",
    "from sklearn import metrics\n",
    "import numpy as np\n",
    "\n",
    "def train_test_rmse(feature_cols):\n",
    "    #Evalúa el desempeño de un modelo de regresión lineal entrenado con ciertas variables predictoras,\n",
    "    #utilizando train/test split y devolviendo el RMSE sobre el conjunto de prueba.\n",
    "    \n",
    "    X = data[feature_cols]\n",
    "    y = data.totally\n",
    "    X_train, X_test, y_train, y_test = train_test_split(X, y, shuffle=False)  # shuffle=False por orden temporal\n",
    "    linreg = LinearRegression()\n",
    "    linreg.fit(X_train, y_train)\n",
    "    y_pred = linreg.predict(X_test)\n",
    "    return np.sqrt(metrics.mean_squared_error(y_test, y_pred))\n",
    "\n",
    "# Comparación con diferentes combinaciones de features\n",
    "print(train_test_rmse(['temp', 'humidity']))              # → 209.77\n",
    "print(train_test_rmse(['temp', 'humidity', 'windspeed'])) # → 209.76\n",
    "print(train_test_rmse(['casual', 'registered']))          # → 2.7e-13\n",
    "\n"
   ]
  },
  {
   "cell_type": "markdown",
   "id": "d900d419",
   "metadata": {},
   "source": [
    "209.7688918306692 Error típico con esas 2 variables\n",
    "209.76176410054475 El viento no aporta mucho en este modelo\n",
    "2.718070657801103e-13 Un valor muy bueno para ser real\n",
    "\n",
    "Este modelo tiene un RMSE casi cero porque usa 'casual' y 'registered', que al sumarse forman exactamente la variable objetivo 'total'.\n",
    "Esto es un ejemplo de data leakage(Filtración de datos): el modelo conoce la respuesta de antemano.\n"
   ]
  },
  {
   "cell_type": "code",
   "execution_count": null,
   "id": "148a7964",
   "metadata": {},
   "outputs": [],
   "source": [
    "#verificamos la suma\n",
    "# Verificamos que la suma es exacta\n",
    "np.all(data.casual + data.registered == data.totally)\n"
   ]
  },
  {
   "cell_type": "markdown",
   "id": "dad7e916",
   "metadata": {},
   "source": [
    "Para tener en cuenta en el uso de scikit-learn es que sólo acepta features (características) numéricas, por lo que es necesario que aqueelas variables categóricas sean convertidas antes del entrenamiento.\n",
    "\n",
    "Si la variable categórica es ordenada es posible dejarlo como números que represente el orde y si son no ordenadas acudimos al uso de variables dummies (0 y 1).\n",
    "\n",
    "En este dataset de bicis la variable del clima es ordenada ya que es codificada númericamente, pero a su vez, tenemos 2 variables no ordenadas, lo son season y holiday y workingday(las cuales ya tienen codificaciones de 0 y 1).\n",
    "\n",
    "Para crearle variables dummy a season no podemos dejar como primavera=1, verano = 2, ya que no hay un orden claro de las mismas, por lo que en estos casos es necesario usar **pd.get_dummies()**.\n",
    "\n",
    "Es importante saber que cuando una variable tiene diferentes categorías (K) es necesario usar k-1 columnas dummy para evitar una colinealidad perfecta (trampa de variables ficticias o dummy variable trap)"
   ]
  },
  {
   "cell_type": "code",
   "execution_count": null,
   "id": "a179d5ad",
   "metadata": {},
   "outputs": [],
   "source": [
    "season_dummies = pd.get_dummies(data.season, prefix='season')\n",
    "season_dummies.sample(5, random_state=1)\n"
   ]
  },
  {
   "cell_type": "code",
   "execution_count": null,
   "id": "5a9b1b63",
   "metadata": {},
   "outputs": [],
   "source": [
    "season_dummies.drop(season_dummies.columns[0], axis=1, inplace=True)\n",
    "data = pd.concat([data, season_dummies], axis=1)\n",
    "data.sample(5)\n"
   ]
  },
  {
   "cell_type": "code",
   "execution_count": null,
   "id": "1fdb7823",
   "metadata": {},
   "outputs": [],
   "source": [
    "feature_cols = ['temp', 'season_2', 'season_3', 'season_4', 'humidity']\n",
    "X = data[feature_cols]\n",
    "y = data.totally\n",
    "\n",
    "linreg = LinearRegression()\n",
    "linreg.fit(X, y)\n",
    "\n",
    "list(zip(feature_cols, linreg.coef_))\n"
   ]
  },
  {
   "cell_type": "markdown",
   "id": "71e32192",
   "metadata": {},
   "source": [
    "Usamos season_1 (primavera) como base (al eliminarla, lo que hace que las otras estaciones se comparen con ella).\n",
    "\n",
    "season_2 (verano): Se alquilan 3.39 bicicletas menos que en primavera.\n",
    "\n",
    "season_3 (otoño): Se alquilan 41.73 bicicletas menos que en primavera.\n",
    "\n",
    "season_4 (invierno): Se alquilan 64.4 bicicletas más que en primavera.\n",
    "\n",
    "\n"
   ]
  },
  {
   "cell_type": "code",
   "execution_count": null,
   "id": "51e1dc4c",
   "metadata": {},
   "outputs": [],
   "source": [
    "#Observaremos que tan bien predice el modelo con RMSE (Erro promedio de las preddiciones respecto a los valores reales)\n",
    "print(train_test_rmse(['temp', 'season_2', 'season_3', 'season_4', 'humidity']))\n"
   ]
  },
  {
   "cell_type": "markdown",
   "id": "8362a58e",
   "metadata": {},
   "source": [
    "Esto significa que el modelo predice con un error de +- 209 bicletas respecto al valor real.\n"
   ]
  },
  {
   "cell_type": "markdown",
   "id": "e0963d0d",
   "metadata": {},
   "source": [
    "### Conclusiones\n",
    "\n",
    "La regresión múltiple logró explicar un mayor porcentaje de la variabilidad en la demanda de bicicletas. Las variables más influyentes fueron la temperatura y si era un día laboral. Estos modelos pueden ser útiles para planificar estrategias de movilidad urbana en función del clima.\n",
    "\n"
   ]
  },
  {
   "cell_type": "code",
   "execution_count": null,
   "id": "faafdce6",
   "metadata": {},
   "outputs": [],
   "source": []
  },
  {
   "cell_type": "code",
   "execution_count": null,
   "id": "16646142",
   "metadata": {},
   "outputs": [],
   "source": []
  }
 ],
 "metadata": {
  "kernelspec": {
   "display_name": "Python [conda env:dhdsblend2021] *",
   "language": "python",
   "name": "conda-env-dhdsblend2021-py"
  },
  "language_info": {
   "codemirror_mode": {
    "name": "ipython",
    "version": 3
   },
   "file_extension": ".py",
   "mimetype": "text/x-python",
   "name": "python",
   "nbconvert_exporter": "python",
   "pygments_lexer": "ipython3",
   "version": "3.8.12"
  }
 },
 "nbformat": 4,
 "nbformat_minor": 5
}
