{
 "cells": [
  {
   "cell_type": "markdown",
   "id": "867be0da",
   "metadata": {},
   "source": [
    "## Alquiler de Biciletas- Regresión Simple y Múltiple\n",
    "\n",
    "1. Introducción\n",
    "2. Exploración del Dataset\n",
    "3. Limpieza de datos\n",
    "4. Análisis Exploratorio de Datos (EDA)\n",
    "5. Correlaciones \n",
    "6. Conclusiones"
   ]
  },
  {
   "cell_type": "markdown",
   "id": "48857284",
   "metadata": {},
   "source": [
    "### 1. Introducción"
   ]
  },
  {
   "cell_type": "markdown",
   "id": "5d037ff1",
   "metadata": {},
   "source": [
    "![Preddción de Alquiler de biciletas](Etbycle.jpg)\n",
    "\n",
    "\n",
    "En una de mis idas a Bogotá descubrí que el uso de Bicicleta por parte de los ciudadanos es cada vez mas común, por lo que me pareció muy bueno con el medio ambiente pero también me generarón dudas del tipo..¿Son biciletas propias o alquiladas?¿De que variables depende que las personas decidan salir en Bicicleta hacia su lugar de trabajo u otras partes?\n",
    "\n",
    "Así que decidí realizar una predicción basada en un dataset encontrado en Kaggle sobre alquiler de bicicleta, aunque está enfocado en una ciudad específica, me permite visualizar y analizar los patrones que pueden aplicar en otras ciudades con este uso de medio de transporte.\n",
    "\n",
    "En el Datset las filas representan un daro horario del número de bicletas alquiladas, con otras variables temporales y metorológicas.\n",
    "\n",
    "Respecto a las variables que se encuentran en el archivo les muestro lo que significa cada columna de estos datos:\n",
    "\n",
    "* **datetime:** La fecha y hora del registro, que permite analizar patrones por día, semana o estación.\n",
    "\n",
    "* **season:** Temporada del año (primavera, verano, etc.), útil para entender variaciones estacionales.\n",
    "\n",
    "* **holiday:** Indica si fue un día festivo, que puede cambiar el comportamiento de los usuarios.\n",
    "\n",
    "* **workingday:** Si fue un día laboral o no.\n",
    "\n",
    "* **weather:** Un índice de la condición climática, desde claro hasta lluvia intensa.\n",
    "\n",
    "* **temp / atemp:** Temperatura real y sensación térmica, variables clave en la decisión de salir en bicicleta.\n",
    "\n",
    "* **humidity:** Humedad relativa, otro factor climático relevante.\n",
    "\n",
    "* **windspeed:** Velocidad del viento, que puede desincentivar el uso.\n",
    "\n",
    "* **casual / registered:** Usuarios casuales (espontáneos) y registrados (frecuentes).\n",
    "\n",
    "* **count:** El total de bicicletas alquiladas en ese momento.\n",
    "\n",
    "Este proyecto toma como base un ejercicio del Bootcamp de Data Science de Digital House,a partir de ese punto de partida, desarrollé un análisis exploratorio, visualizaciones personalizadas y un modelo de regresión para predecir la demanda de bicicletas según las condiciones climáticas y temporales.\n"
   ]
  },
  {
   "cell_type": "code",
   "execution_count": null,
   "id": "96928e80",
   "metadata": {},
   "outputs": [],
   "source": []
  },
  {
   "cell_type": "code",
   "execution_count": null,
   "id": "2155cfdf",
   "metadata": {},
   "outputs": [],
   "source": []
  },
  {
   "cell_type": "code",
   "execution_count": null,
   "id": "a5dd110a",
   "metadata": {},
   "outputs": [],
   "source": []
  },
  {
   "cell_type": "code",
   "execution_count": null,
   "id": "62ec653f",
   "metadata": {},
   "outputs": [],
   "source": []
  },
  {
   "cell_type": "code",
   "execution_count": null,
   "id": "fc1e0e70",
   "metadata": {},
   "outputs": [],
   "source": []
  }
 ],
 "metadata": {
  "kernelspec": {
   "display_name": "Python [conda env:dhdsblend2021] *",
   "language": "python",
   "name": "conda-env-dhdsblend2021-py"
  },
  "language_info": {
   "codemirror_mode": {
    "name": "ipython",
    "version": 3
   },
   "file_extension": ".py",
   "mimetype": "text/x-python",
   "name": "python",
   "nbconvert_exporter": "python",
   "pygments_lexer": "ipython3",
   "version": "3.8.12"
  }
 },
 "nbformat": 4,
 "nbformat_minor": 5
}
